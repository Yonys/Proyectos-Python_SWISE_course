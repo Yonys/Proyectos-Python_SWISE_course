{
 "cells": [
  {
   "cell_type": "markdown",
   "metadata": {},
   "source": [
    "### **Estudiante:** Yonys Rodriguez\n",
    "\n",
    "\n",
    "\n",
    "\n",
    "\n"
   ]
  },
  {
   "cell_type": "markdown",
   "metadata": {},
   "source": [
    "# **Solución**"
   ]
  },
  {
   "cell_type": "markdown",
   "metadata": {},
   "source": [
    "\n",
    "### 1. Cree funciones para todos los objetos fundamentales: $x(t)$, $y(t)$, $\\vec{r}(t)$."
   ]
  },
  {
   "cell_type": "markdown",
   "metadata": {},
   "source": [
    " ### **Definiendo $y(t)$**"
   ]
  },
  {
   "cell_type": "code",
   "execution_count": 195,
   "metadata": {},
   "outputs": [],
   "source": [
    "yt = lambda y0, Uy0, a, t: y0 + Uy0*t + a*(t**2)/2"
   ]
  },
  {
   "cell_type": "markdown",
   "metadata": {},
   "source": [
    "### **Definiendo $x(t)$**"
   ]
  },
  {
   "cell_type": "code",
   "execution_count": 196,
   "metadata": {},
   "outputs": [],
   "source": [
    "xt = lambda x0, Ux0,t: x0 + Ux0*t"
   ]
  },
  {
   "cell_type": "markdown",
   "metadata": {},
   "source": [
    "### **Definiendo $\\vec{r}(t)$**"
   ]
  },
  {
   "cell_type": "code",
   "execution_count": 197,
   "metadata": {},
   "outputs": [],
   "source": [
    "rhat = lambda x0, y0, Ux0, Uy0, a, t: (xt(x0,Ux0,t), yt(y0,Uy0,a,t))"
   ]
  },
  {
   "cell_type": "markdown",
   "metadata": {},
   "source": [
    "### **Leyendo los parámetros**"
   ]
  },
  {
   "cell_type": "code",
   "execution_count": 198,
   "metadata": {},
   "outputs": [
    {
     "name": "stdout",
     "output_type": "stream",
     "text": [
      "Ingrese los valores de los parametros: \n"
     ]
    },
    {
     "name": "stdin",
     "output_type": "stream",
     "text": [
      "x0:  2\n",
      "y0:  2\n",
      "Ux0:  12\n",
      "Uy0:  8\n"
     ]
    }
   ],
   "source": [
    "print(\"Ingrese los valores de los parametros: \")\n",
    "x0 = float(input(\"x0: \"))\n",
    "y0 = float(input(\"y0: \"))\n",
    "Ux0 = float(input(\"Ux0: \"))\n",
    "Uy0= float(input(\"Uy0: \"))\n",
    "a = -9.8"
   ]
  },
  {
   "cell_type": "markdown",
   "metadata": {},
   "source": [
    "### **Maximo de y(t)**"
   ]
  },
  {
   "cell_type": "code",
   "execution_count": 199,
   "metadata": {},
   "outputs": [],
   "source": [
    "tmax = -Uy0/a\n",
    "#tyfinal = (-2*Uy0  + ((2*Uy0)**2 - 4*a*2*y0)**(1/2))/2*a\n",
    "#tyfinal"
   ]
  },
  {
   "cell_type": "markdown",
   "metadata": {},
   "source": [
    "**Valores para $t$**"
   ]
  },
  {
   "cell_type": "code",
   "execution_count": 200,
   "metadata": {},
   "outputs": [],
   "source": [
    "import numpy as np\n",
    "t = np.arange(0, tmax+1,0.01)"
   ]
  },
  {
   "cell_type": "markdown",
   "metadata": {},
   "source": [
    "**Valores para bosquejar gráfica**"
   ]
  },
  {
   "cell_type": "code",
   "execution_count": 201,
   "metadata": {},
   "outputs": [],
   "source": [
    "aux = lambda t: rhat(x0,y0, Ux0, Uy0,a,t)\n",
    "grafica = list(map(aux,t))\n",
    "x = [a for a, b in grafica]\n",
    "y = [b for a, b in grafica]"
   ]
  },
  {
   "cell_type": "markdown",
   "metadata": {},
   "source": [
    "### **Graficando**"
   ]
  },
  {
   "cell_type": "code",
   "execution_count": 202,
   "metadata": {},
   "outputs": [],
   "source": [
    "import matplotlib.pyplot as graph"
   ]
  },
  {
   "cell_type": "code",
   "execution_count": 203,
   "metadata": {},
   "outputs": [
    {
     "data": {
      "image/png": "[encoded data removed]",
      "text/plain": [
       "<Figure size 432x288 with 1 Axes>"
      ]
     },
     "metadata": {
      "needs_background": "light"
     },
     "output_type": "display_data"
    }
   ],
   "source": [
    "graph.plot(x,y)\n",
    "graph.title(\"Trayectoria de proyectil\")\n",
    "graph.xlabel(\"Recorrido horizontal\")\n",
    "graph.ylabel(\"Altura\")\n",
    "graph.show()\n"
   ]
  },
  {
   "cell_type": "markdown",
   "metadata": {},
   "source": [
    " ##  2.3 ¿Cuál es la altura máxima que alcanza la pelota? ¿En qué tiempo la alcanzó?"
   ]
  },
  {
   "cell_type": "markdown",
   "metadata": {},
   "source": [
    "\n",
    "* ### **la altura máxima es:**"
   ]
  },
  {
   "cell_type": "code",
   "execution_count": 204,
   "metadata": {},
   "outputs": [
    {
     "name": "stdout",
     "output_type": "stream",
     "text": [
      "5.26530612244898\n"
     ]
    }
   ],
   "source": [
    "altmax = yt(y0,Uy0,a,tmax)\n",
    "print(altmax)"
   ]
  },
  {
   "cell_type": "markdown",
   "metadata": {},
   "source": [
    "* ### **En el tiempo:**"
   ]
  },
  {
   "cell_type": "code",
   "execution_count": 205,
   "metadata": {},
   "outputs": [
    {
     "name": "stdout",
     "output_type": "stream",
     "text": [
      "0.8163265306122448\n"
     ]
    }
   ],
   "source": [
    "print(tmax)"
   ]
  },
  {
   "cell_type": "markdown",
   "metadata": {},
   "source": [
    "* ### **Es decir $(x,y)$**"
   ]
  },
  {
   "cell_type": "code",
   "execution_count": 206,
   "metadata": {},
   "outputs": [
    {
     "data": {
      "text/plain": [
       "(11.795918367346937, 8.530612244897958)"
      ]
     },
     "execution_count": 206,
     "metadata": {},
     "output_type": "execute_result"
    }
   ],
   "source": [
    "rhat(x0,y0,Ux0,Ux0,a,tmax)"
   ]
  },
  {
   "cell_type": "code",
   "execution_count": null,
   "metadata": {},
   "outputs": [],
   "source": [
    "                "
   ]
  }
 ],
 "metadata": {
  "kernelspec": {
   "display_name": "Python 3",
   "language": "python",
   "name": "python3"
  },
  "language_info": {
   "codemirror_mode": {
    "name": "ipython",
    "version": 3
   },
   "file_extension": ".py",
   "mimetype": "text/x-python",
   "name": "python",
   "nbconvert_exporter": "python",
   "pygments_lexer": "ipython3",
   "version": "3.8.3"
  }
 },
 "nbformat": 4,
 "nbformat_minor": 4
}
