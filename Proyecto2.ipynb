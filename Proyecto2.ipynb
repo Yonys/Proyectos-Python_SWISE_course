{
 "cells": [
  {
   "cell_type": "code",
   "execution_count": null,
   "metadata": {},
   "outputs": [],
   "source": [
    "print(\"Hola \\nMe llamo Yonys\")"
   ]
  },
  {
   "cell_type": "code",
   "execution_count": null,
   "metadata": {},
   "outputs": [],
   "source": [
    "print(\"JUEGO X-0\")\n",
    "print(\"Jugador 1: X\")\n",
    "print(\"Jugador 2: 0\")"
   ]
  },
  {
   "cell_type": "code",
   "execution_count": null,
   "metadata": {},
   "outputs": [],
   "source": [
    "tablero = [0,1,2,3,4,5,6,7,8,9]\n",
    "print(\"     |     |     \" )\t \n",
    "print(f\"  {tablero[1]}  |  {tablero[2]}  |  {tablero[3]}\")\n",
    "print(\"_____|_____|_____\")\n",
    "print(\"     |     |     \")\n",
    "print(f\"  {tablero[4]}  |  {tablero[5]}  |  {tablero[6]}\")\n",
    "print(\"_____|_____|_____\")\n",
    "print(\"     |     |     \")\n",
    "print(f\"  {tablero[7]}  |  {tablero[8]}  |  {tablero[9]}\")\n",
    " "
   ]
  },
  {
   "cell_type": "code",
   "execution_count": null,
   "metadata": {},
   "outputs": [],
   "source": []
  },
  {
   "cell_type": "code",
   "execution_count": null,
   "metadata": {},
   "outputs": [],
   "source": [
    "def marcar_casilla(casilla_elegida,simbolo):\n",
    "    casilla_elegida = str(casilla_elegida)\n",
    "    simbolo = str(simbolo)\n",
    "    tablero = [\"0\",\"1\",\"2\",\"3\",\"4\",\"5\",\"6\",\"7\",\"8\",\"9\"]\n",
    "        \n",
    "    if (casilla_elegida == 1 & tablero[1] == \"1\"):\n",
    "        tablero[1] = simbolo\n",
    "            \n",
    "    elif (casilla_elegida == 2 & tablero[2] == \"2\"):\n",
    "        tablero[2] = simbolo\n",
    "            \n",
    "    elif (casilla_elegida == 3 & tablero[3] == \"3\"):\n",
    "        tablero[3] = simbolo\n",
    "            \n",
    "    elif (casilla_elegida == 4 & tablero[4] == \"4\"):\n",
    "        tablero[4] = simbolo\n",
    "            \n",
    "    elif (casilla_elegida == 5 & tablero[5] == \"5\"):\n",
    "        tablero[5] = simbolo\n",
    "            \n",
    "    elif (casilla_elegida == 6 & tablero[6] == \"6\"):\n",
    "        tablero[6] = simbolo\n",
    "            \n",
    "    elif (casilla_elegida == 7 & tablero[7] == \"7\"):\n",
    "        tablero[7] = simbolo\n",
    "        \n",
    "    elif (casilla_elegida == 8 & tablero[8] == \"8\"):\n",
    "        tablero[8] = simbolo\n",
    "            \n",
    "    elif (casilla_elegida == 9 & tablero[9] == \"9\"):\n",
    "        tablero[9] = simbolo\n",
    "    else:       \n",
    "            print(\"Jugada invalida, elija otra opcion \")\n",
    "            "
   ]
  },
  {
   "cell_type": "code",
   "execution_count": null,
   "metadata": {},
   "outputs": [],
   "source": [
    "marcar_casilla(1,\"x\")"
   ]
  },
  {
   "cell_type": "markdown",
   "metadata": {},
   "source": [
    "# Definiendo la clase tablero"
   ]
  },
  {
   "cell_type": "code",
   "execution_count": null,
   "metadata": {},
   "outputs": [],
   "source": [
    "class Tablero: \n",
    "    def __init__(self,x):\n",
    "        self.tablero = x\n",
    "        \n",
    "    def print (self):       \n",
    "        \"\"\"\n",
    "        Función que imprime el self.tablero\n",
    "        \"\"\"\n",
    "        print(\"     |     |     \" )\t \n",
    "        print(f\"  {self.tablero[1]}  |  {self.tablero[2]}  |  {self.tablero[3]}\")\n",
    "        print(\"_____|_____|_____\")\n",
    "        print(\"     |     |     \")\n",
    "        print(f\"  {self.tablero[4]}  |  {self.tablero[5]}  |  {self.tablero[6]}\")\n",
    "        print(\"_____|_____|_____\")\n",
    "        print(\"     |     |     \")\n",
    "        print(f\"  {self.tablero[7]}  |  {self.tablero[8]}  |  {self.tablero[9]}\")\n",
    "        \n",
    "    def marcar_casilla(self,casilla_elegida, simbolo):\n",
    "        if (casilla_elegida == \"1\" and self.tablero[1] == \"1\"):\n",
    "            self.tablero[1] = simbolo\n",
    "            \n",
    "        elif (casilla_elegida == \"2\" and self.tablero[2] == \"2\"):\n",
    "            self.tablero[2] = simbolo\n",
    "            \n",
    "        elif (casilla_elegida == \"3\" and self.tablero[3] == \"3\"):\n",
    "            self.tablero[3] = simbolo\n",
    "        \n",
    "        elif (casilla_elegida == \"4\" and self.tablero[4] == \"4\"):\n",
    "            self.tablero[4] = simbolo\n",
    "            \n",
    "        elif (casilla_elegida == \"5\" and self.tablero[5] == \"5\"):\n",
    "            self.tablero[5] = simbolo\n",
    "            \n",
    "        elif (casilla_elegida == \"6\" and self.tablero[6] == \"6\"):\n",
    "            self.tablero[6] = simbolo\n",
    "            \n",
    "        elif (casilla_elegida == \"7\" and self.tablero[7] == \"7\"):\n",
    "            self.tablero[7] = simbolo\n",
    "        \n",
    "        elif (casilla_elegida == \"8\" and self.tablero[8] == \"8\"):\n",
    "            self.tablero[8] = simbolo\n",
    "            \n",
    "        elif (casilla_elegida == \"9\" and self.tablero[9] == \"9\"):\n",
    "            self.tablero[9] = simbolo\n",
    "        else:       \n",
    "            print(\"Jugada invalida, elija otra opcion \")\n",
    "            \n",
    "            \n",
    "    def buscar_ganador(self):\n",
    "        tablero = self.tablero\n",
    "        \n",
    "        if(tablero[1] == tablero[2] and tablero[2] == tablero[3]):\n",
    "                return 1                                            # hay ganador\n",
    "\n",
    "        elif (tablero[4] == tablero[5] and tablero[5] == tablero[6]):\n",
    "            return 1 \n",
    "\n",
    "        elif(tablero[7] == tablero[8] and tablero[8] == tablero[9]):\n",
    "            return 1                                               # Tercer fila igual simbolo\n",
    "                                                                   # Hay ganadot\n",
    "        # ------- Comprobando lo anterior pero para las columnas------------------\n",
    "        elif (tablero[1] == tablero[4] and tablero[4] == tablero[7]):  # Columna 1\n",
    "            return 1;\n",
    "\n",
    "        elif (tablero[2] == tablero[5] and tablero[5] == tablero[8]):   # Columna 2\n",
    "            return 1\n",
    "\n",
    "        elif (tablero[3] == tablero[6] and tablero[6] == tablero[9]):   # Columna 3\n",
    "            return 1\n",
    "        #------------- Buscando ganador en las diagonales ---------------------------  \n",
    "        elif (tablero[1] == tablero[5] and tablero[5] == tablero[9]):\n",
    "            return 1   \n",
    "        elif(tablero[3] == tablero[5] and tablero[5] == tablero[7]):\n",
    "            return 1\n",
    "        #Buscando empate\n",
    "        elif (tablero[1] != '1' and tablero[2] != '2' and tablero[3] != '3' and tablero[4] != '4' \n",
    "              and tablero[5] != '5' and tablero[6] != '6'  and tablero[7] != '7' and tablero[8] != '8' and tablero[9] != '9'):\n",
    "            return 0\n",
    "        else:\n",
    "            return -1 # En caso de no haber empate ni ganador entonces se puede seguir jugando\n",
    "\n",
    "\n",
    "        \n",
    "        \n",
    "    \n"
   ]
  },
  {
   "cell_type": "code",
   "execution_count": null,
   "metadata": {},
   "outputs": [],
   "source": [
    "valores = [\"0\",\"1\",\"2\",\"3\",\"4\",\"5\",\"6\",\"7\",\"8\",\"9\"]\n",
    "tableroPuntuacion = Tablero(valores)"
   ]
  },
  {
   "cell_type": "code",
   "execution_count": null,
   "metadata": {},
   "outputs": [],
   "source": [
    "tableroPuntuacion.marcar_casilla(\"7\",\"0\")"
   ]
  },
  {
   "cell_type": "code",
   "execution_count": null,
   "metadata": {},
   "outputs": [],
   "source": [
    "tableroPuntuacion.print()"
   ]
  },
  {
   "cell_type": "code",
   "execution_count": null,
   "metadata": {},
   "outputs": [],
   "source": [
    "tableroPuntuacion.buscar_ganador()"
   ]
  },
  {
   "cell_type": "code",
   "execution_count": null,
   "metadata": {},
   "outputs": [],
   "source": [
    "class Turno:\n",
    "    def __init__(self,simbolo):\n",
    "        self.simbolo = simbolo \n",
    "    \n",
    "    def turno(self):\n",
    "        if(self.simbolo == 1):\n",
    "            return(\"X\")\n",
    "        else: \n",
    "            return(\"0\") \n",
    "                   "
   ]
  },
  {
   "cell_type": "code",
   "execution_count": null,
   "metadata": {},
   "outputs": [],
   "source": [
    "class Jugador():\n",
    "    def __init__(self, nombre, num):\n",
    "        self.nombre = nombre\n",
    "        self.num = num\n",
    "    \n",
    "    def __str__(self):\n",
    "        return(self.nombre)\n",
    "        \n",
    "        #- PREGUNTAR SI ESTE VALE COMO SOBRECARGA DE OPERADOR"
   ]
  },
  {
   "cell_type": "code",
   "execution_count": null,
   "metadata": {},
   "outputs": [],
   "source": [
    "jugador1 = Jugador(\"Yonys\",\"1\", \"X\")\n",
    "jugador2 = Jugador(\"Yonys\",\"2\", \"0\")"
   ]
  },
  {
   "cell_type": "code",
   "execution_count": null,
   "metadata": {},
   "outputs": [],
   "source": [
    "print(jugador1)"
   ]
  },
  {
   "cell_type": "code",
   "execution_count": null,
   "metadata": {},
   "outputs": [],
   "source": [
    "jugador1.turno()"
   ]
  },
  {
   "cell_type": "code",
   "execution_count": null,
   "metadata": {},
   "outputs": [],
   "source": [
    "jugador1.num"
   ]
  },
  {
   "cell_type": "code",
   "execution_count": null,
   "metadata": {},
   "outputs": [],
   "source": [
    "def buscar_ganador(tablero):\n",
    "    if(tablero[1] == tablero[2] and tablero[2] == tablero[3]):\n",
    "            return 1                                            # hay ganador\n",
    "    \n",
    "    elif (tablero[4] == tablero[5] and tablero[5] == tablero[6]):\n",
    "        return 1 \n",
    "    \n",
    "    elif(tablero[7] == tablero[8] and tablero[8] == tablero[9]):\n",
    "        return 1                                               # Tercer fila igual simbolo\n",
    "                                                               # Hay ganadot\n",
    "    # ------- Comprobando lo anterior pero para las columnas------------------\n",
    "    elif (tablero[1] == tablero[4] and tablero[4] == tablero[7]):  # Columna 1\n",
    "        return 1;\n",
    "    \n",
    "    elif (tablero[2] == tablero[5] and tablero[5] == tablero[8]):   # Columna 2\n",
    "        return 1\n",
    "        \n",
    "    elif (tablero[3] == tablero[6] and tablero[6] == tablero[9]):   # Columna 3\n",
    "        return 1\n",
    "    #------------- Buscando ganador en las diagonales ---------------------------  \n",
    "    elif (tablero[1] == tablero[5] and tablero[5] == tablero[9]):\n",
    "        return 1   \n",
    "    elif(tablero[3] == tablero[5] and tablero[5] == tablero[7]):\n",
    "        return 1\n",
    "    #Buscando empate\n",
    "    elif (tablero[1] != '1' and tablero[2] != '2' and tablero[3] != '3' and tablero[4] != '4' \n",
    "          and tablero[5] != '5' and tablero[6] != '6'  and tablero[7] != '7' and tablero[8] != '8' and tablero[9] != '9'):\n",
    "        return 0\n",
    "    else:\n",
    "        return -1 # En caso de no haber empate ni ganador entonces se puede seguir jugando\n"
   ]
  },
  {
   "cell_type": "code",
   "execution_count": null,
   "metadata": {},
   "outputs": [],
   "source": [
    "tableroPuntuacion.tablero"
   ]
  },
  {
   "cell_type": "code",
   "execution_count": null,
   "metadata": {},
   "outputs": [],
   "source": [
    "buscar_ganador(tableroPuntuacion.tablero)"
   ]
  },
  {
   "cell_type": "code",
   "execution_count": null,
   "metadata": {},
   "outputs": [],
   "source": [
    "TableroPuntuacion.print()"
   ]
  },
  {
   "cell_type": "code",
   "execution_count": null,
   "metadata": {},
   "outputs": [],
   "source": [
    "TableroPuntuacion.print()"
   ]
  },
  {
   "cell_type": "code",
   "execution_count": null,
   "metadata": {},
   "outputs": [],
   "source": [
    "class Carro:\n",
    "    def __init__(self,color = \"rojo\"):\n",
    "        self.color = color\n",
    "    \n",
    "    def corre(self, x):\n",
    "        return(x)"
   ]
  },
  {
   "cell_type": "code",
   "execution_count": null,
   "metadata": {},
   "outputs": [],
   "source": [
    "a = Carro"
   ]
  },
  {
   "cell_type": "code",
   "execution_count": null,
   "metadata": {},
   "outputs": [],
   "source": [
    "a.color"
   ]
  },
  {
   "cell_type": "code",
   "execution_count": null,
   "metadata": {},
   "outputs": [],
   "source": [
    "\"1\"==\"1\" and 2==2"
   ]
  },
  {
   "cell_type": "code",
   "execution_count": null,
   "metadata": {},
   "outputs": [],
   "source": [
    "a.color"
   ]
  },
  {
   "cell_type": "code",
   "execution_count": null,
   "metadata": {},
   "outputs": [],
   "source": [
    "class Turno:\n",
    "    def __init__(self,simbolo):\n",
    "        self.simbolo = simbolo \n",
    "    \n",
    "    def turno(self):\n",
    "        if(self.simbolo == 1):\n",
    "            return(\"X\")\n",
    "        else: \n",
    "            return(\"0\") \n",
    "    "
   ]
  },
  {
   "cell_type": "code",
   "execution_count": null,
   "metadata": {},
   "outputs": [],
   "source": [
    "jugado1 = Jugador(\"Yonys\", 1)\n",
    "jugado1 = Jugador(\"Yonyssss\", 2)"
   ]
  },
  {
   "cell_type": "code",
   "execution_count": null,
   "metadata": {},
   "outputs": [],
   "source": [
    "turno = Turno(jugado1.num)"
   ]
  },
  {
   "cell_type": "code",
   "execution_count": null,
   "metadata": {},
   "outputs": [],
   "source": [
    "turno = 3\n",
    "if(turno%2):\n",
    "        turno = 1\n",
    "else:\n",
    "    turno = 2\n",
    "turno"
   ]
  },
  {
   "cell_type": "code",
   "execution_count": 3,
   "metadata": {},
   "outputs": [
    {
     "name": "stdout",
     "output_type": "stream",
     "text": [
      "  INFINITIVO PASADO SIMPLE PASADO PARTICIPIO    TRADUCCIÓN\n",
      "0      Arise         Arose            Arisen        Surgir\n",
      "1      Awake         Awoke            Awoken   Despertarse\n",
      "2       Beat          Beat            Beaten       Golpear\n",
      "3     Become        Became            Become  Llegar a ser\n",
      "4      Begin         Began             Begun       Empezar\n",
      "25\n",
      "Ingrese el pasado particiopio de la palabra  --> Cling: \n"
     ]
    },
    {
     "name": "stdin",
     "output_type": "stream",
     "text": [
      "                                           clan\n"
     ]
    }
   ],
   "source": [
    "import pandas as pd\n",
    "import numpy as np\n",
    "\n",
    "df = pd.read_csv(\"verbos.csv\")\n",
    "print(df.head())\n",
    "\n",
    "aleatorio = np.random.choice(len(df[\"INFINITIVO\"]),1)[0]\n",
    "print(aleatorio)\n",
    "palabInfin = df[\"INFINITIVO\"][aleatorio]\n",
    "\n",
    "print(f\"Ingrese el pasado particiopio de la palabra  --> {palabInfin}: \")\n",
    "pastParticiple = input(\"                                          \")\n"
   ]
  },
  {
   "cell_type": "code",
   "execution_count": 5,
   "metadata": {},
   "outputs": [
    {
     "name": "stdout",
     "output_type": "stream",
     "text": [
      "Es incorrecto\n"
     ]
    }
   ],
   "source": [
    "\n",
    "revision = df[\"PASADO PARTICIPIO\"][aleatorio] == pastParticiple\n",
    "\n",
    "if(revision):\n",
    "\tprint(\"Es correcto\")\n",
    "else:\n",
    "\tprint(\"Es incorrecto\")"
   ]
  },
  {
   "cell_type": "code",
   "execution_count": null,
   "metadata": {},
   "outputs": [],
   "source": [
    "df[\"PASADO PARTICIPIO\"][aleatorio]"
   ]
  },
  {
   "cell_type": "code",
   "execution_count": null,
   "metadata": {},
   "outputs": [],
   "source": [
    "\n"
   ]
  },
  {
   "cell_type": "code",
   "execution_count": null,
   "metadata": {},
   "outputs": [],
   "source": [
    "df[1][1] == \"Awoke\""
   ]
  },
  {
   "cell_type": "code",
   "execution_count": null,
   "metadata": {},
   "outputs": [],
   "source": [
    "df[\"INFINITIVO\"][aleatorio[0]]"
   ]
  },
  {
   "cell_type": "code",
   "execution_count": 6,
   "metadata": {},
   "outputs": [],
   "source": [
    "class testVerbos:\n",
    "\n",
    "    def __init__(self,verbos):\n",
    "        self.dfVerbos = verbos\n",
    "\n",
    "\n",
    "    def test(pastParticiple):\n",
    "        aleatorio = np.random.choice(len(self.dfVerbos[\"INFINITIVO\"]),1)[0] #Cambiarlo\n",
    "        palabInfin = self.dfVerbos[\"INFINITIVO\"][aleatorio]\n",
    "\n",
    "        print(f\"Ingrese el pasado participio de la palabra  --> {palabInfin} \")\n",
    "        pastParticiple = input(\"                                             --> \")\n",
    "\n",
    "        revision = self.dfVerbos[\"PASADO PARTICIPIO\"][aleatorio] == pastParticiple.capitalize()\n",
    "\n",
    "        if(revision):\n",
    "            print(\"Es correcto\")\n",
    "        else:\n",
    "            print(\"Es incorrecto\\n Sigue el turno para el otro jugador\")\n",
    "\n",
    "        return revision\n"
   ]
  },
  {
   "cell_type": "code",
   "execution_count": 7,
   "metadata": {},
   "outputs": [
    {
     "name": "stdout",
     "output_type": "stream",
     "text": [
      "Hola \n",
      " casa\n"
     ]
    }
   ],
   "source": [
    "print(\"Hola \\n casa\")"
   ]
  },
  {
   "cell_type": "code",
   "execution_count": null,
   "metadata": {},
   "outputs": [],
   "source": []
  }
 ],
 "metadata": {
  "kernelspec": {
   "display_name": "Python 3",
   "language": "python",
   "name": "python3"
  },
  "language_info": {
   "codemirror_mode": {
    "name": "ipython",
    "version": 3
   },
   "file_extension": ".py",
   "mimetype": "text/x-python",
   "name": "python",
   "nbconvert_exporter": "python",
   "pygments_lexer": "ipython3",
   "version": "3.8.3"
  }
 },
 "nbformat": 4,
 "nbformat_minor": 4
}
