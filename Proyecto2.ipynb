{
 "cells": [
  {
   "cell_type": "code",
   "execution_count": null,
   "metadata": {},
   "outputs": [],
   "source": [
    "print(\"Hola \\nMe llamo Yonys\")"
   ]
  },
  {
   "cell_type": "code",
   "execution_count": null,
   "metadata": {},
   "outputs": [],
   "source": [
    "print(\"JUEGO X-0\")\n",
    "print(\"Jugador 1: X\")\n",
    "print(\"Jugador 2: 0\")"
   ]
  },
  {
   "cell_type": "code",
   "execution_count": null,
   "metadata": {},
   "outputs": [],
   "source": [
    "tablero = [0,1,2,3,4,5,6,7,8,9]\n",
    "print(\"     |     |     \" )\t \n",
    "print(f\"  {tablero[1]}  |  {tablero[2]}  |  {tablero[3]}\")\n",
    "print(\"_____|_____|_____\")\n",
    "print(\"     |     |     \")\n",
    "print(f\"  {tablero[4]}  |  {tablero[5]}  |  {tablero[6]}\")\n",
    "print(\"_____|_____|_____\")\n",
    "print(\"     |     |     \")\n",
    "print(f\"  {tablero[7]}  |  {tablero[8]}  |  {tablero[9]}\")\n",
    " "
   ]
  },
  {
   "cell_type": "code",
   "execution_count": null,
   "metadata": {},
   "outputs": [],
   "source": []
  },
  {
   "cell_type": "code",
   "execution_count": null,
   "metadata": {},
   "outputs": [],
   "source": [
    "def marcar_casilla(casilla_elegida,simbolo):\n",
    "    casilla_elegida = str(casilla_elegida)\n",
    "    simbolo = str(simbolo)\n",
    "    tablero = [\"0\",\"1\",\"2\",\"3\",\"4\",\"5\",\"6\",\"7\",\"8\",\"9\"]\n",
    "        \n",
    "    if (casilla_elegida == 1 & tablero[1] == \"1\"):\n",
    "        tablero[1] = simbolo\n",
    "            \n",
    "    elif (casilla_elegida == 2 & tablero[2] == \"2\"):\n",
    "        tablero[2] = simbolo\n",
    "            \n",
    "    elif (casilla_elegida == 3 & tablero[3] == \"3\"):\n",
    "        tablero[3] = simbolo\n",
    "            \n",
    "    elif (casilla_elegida == 4 & tablero[4] == \"4\"):\n",
    "        tablero[4] = simbolo\n",
    "            \n",
    "    elif (casilla_elegida == 5 & tablero[5] == \"5\"):\n",
    "        tablero[5] = simbolo\n",
    "            \n",
    "    elif (casilla_elegida == 6 & tablero[6] == \"6\"):\n",
    "        tablero[6] = simbolo\n",
    "            \n",
    "    elif (casilla_elegida == 7 & tablero[7] == \"7\"):\n",
    "        tablero[7] = simbolo\n",
    "        \n",
    "    elif (casilla_elegida == 8 & tablero[8] == \"8\"):\n",
    "        tablero[8] = simbolo\n",
    "            \n",
    "    elif (casilla_elegida == 9 & tablero[9] == \"9\"):\n",
    "        tablero[9] = simbolo\n",
    "    else:       \n",
    "            print(\"Jugada invalida, elija otra opcion \")\n",
    "            "
   ]
  },
  {
   "cell_type": "code",
   "execution_count": null,
   "metadata": {},
   "outputs": [],
   "source": [
    "marcar_casilla(1,\"x\")"
   ]
  },
  {
   "cell_type": "markdown",
   "metadata": {},
   "source": [
    "# Definiendo la clase tablero"
   ]
  },
  {
   "cell_type": "code",
   "execution_count": 27,
   "metadata": {},
   "outputs": [],
   "source": [
    "class Tablero: \n",
    "    def __init__(self,x):\n",
    "        self.tablero = x\n",
    "        \n",
    "    def print (self):       \n",
    "        \"\"\"\n",
    "        Función que imprime el self.tablero\n",
    "        \"\"\"\n",
    "        print(\"     |     |     \" )\t \n",
    "        print(f\"  {self.tablero[1]}  |  {self.tablero[2]}  |  {self.tablero[3]}\")\n",
    "        print(\"_____|_____|_____\")\n",
    "        print(\"     |     |     \")\n",
    "        print(f\"  {self.tablero[4]}  |  {self.tablero[5]}  |  {self.tablero[6]}\")\n",
    "        print(\"_____|_____|_____\")\n",
    "        print(\"     |     |     \")\n",
    "        print(f\"  {self.tablero[7]}  |  {self.tablero[8]}  |  {self.tablero[9]}\")\n",
    "        \n",
    "    def marcar_casilla(self,casilla_elegida, simbolo):\n",
    "        if (casilla_elegida == \"1\" and self.tablero[1] == \"1\"):\n",
    "            self.tablero[1] = simbolo\n",
    "            \n",
    "        elif (casilla_elegida == \"2\" and self.tablero[2] == \"2\"):\n",
    "            self.tablero[2] = simbolo\n",
    "            \n",
    "        elif (casilla_elegida == \"3\" and self.tablero[3] == \"3\"):\n",
    "            self.tablero[3] = simbolo\n",
    "        \n",
    "        elif (casilla_elegida == \"4\" and self.tablero[4] == \"4\"):\n",
    "            self.tablero[4] = simbolo\n",
    "            \n",
    "        elif (casilla_elegida == \"5\" and self.tablero[5] == \"5\"):\n",
    "            self.tablero[5] = simbolo\n",
    "            \n",
    "        elif (casilla_elegida == \"6\" and self.tablero[6] == \"6\"):\n",
    "            self.tablero[6] = simbolo\n",
    "            \n",
    "        elif (casilla_elegida == \"7\" and self.tablero[7] == \"7\"):\n",
    "            self.tablero[7] = simbolo\n",
    "        \n",
    "        elif (casilla_elegida == \"8\" and self.tablero[8] == \"8\"):\n",
    "            self.tablero[8] = simbolo\n",
    "            \n",
    "        elif (casilla_elegida == \"9\" and self.tablero[9] == \"9\"):\n",
    "            self.tablero[9] = simbolo\n",
    "        else:       \n",
    "            print(\"Jugada invalida, elija otra opcion \")\n",
    "            \n",
    "            \n",
    "    def buscar_ganador(self):\n",
    "        tablero = self.tablero\n",
    "        \n",
    "        if(tablero[1] == tablero[2] and tablero[2] == tablero[3]):\n",
    "                return 1                                            # hay ganador\n",
    "\n",
    "        elif (tablero[4] == tablero[5] and tablero[5] == tablero[6]):\n",
    "            return 1 \n",
    "\n",
    "        elif(tablero[7] == tablero[8] and tablero[8] == tablero[9]):\n",
    "            return 1                                               # Tercer fila igual simbolo\n",
    "                                                                   # Hay ganadot\n",
    "        # ------- Comprobando lo anterior pero para las columnas------------------\n",
    "        elif (tablero[1] == tablero[4] and tablero[4] == tablero[7]):  # Columna 1\n",
    "            return 1;\n",
    "\n",
    "        elif (tablero[2] == tablero[5] and tablero[5] == tablero[8]):   # Columna 2\n",
    "            return 1\n",
    "\n",
    "        elif (tablero[3] == tablero[6] and tablero[6] == tablero[9]):   # Columna 3\n",
    "            return 1\n",
    "        #------------- Buscando ganador en las diagonales ---------------------------  \n",
    "        elif (tablero[1] == tablero[5] and tablero[5] == tablero[9]):\n",
    "            return 1   \n",
    "        elif(tablero[3] == tablero[5] and tablero[5] == tablero[7]):\n",
    "            return 1\n",
    "        #Buscando empate\n",
    "        elif (tablero[1] != '1' and tablero[2] != '2' and tablero[3] != '3' and tablero[4] != '4' \n",
    "              and tablero[5] != '5' and tablero[6] != '6'  and tablero[7] != '7' and tablero[8] != '8' and tablero[9] != '9'):\n",
    "            return 0\n",
    "        else:\n",
    "            return -1 # En caso de no haber empate ni ganador entonces se puede seguir jugando\n",
    "\n",
    "\n",
    "        \n",
    "        \n",
    "    \n"
   ]
  },
  {
   "cell_type": "code",
   "execution_count": 44,
   "metadata": {},
   "outputs": [],
   "source": [
    "valores = [\"0\",\"1\",\"2\",\"3\",\"4\",\"5\",\"6\",\"7\",\"8\",\"9\"]\n",
    "tableroPuntuacion = Tablero(valores)"
   ]
  },
  {
   "cell_type": "code",
   "execution_count": 53,
   "metadata": {},
   "outputs": [
    {
     "name": "stdout",
     "output_type": "stream",
     "text": [
      "Jugada invalida, elija otra opcion \n"
     ]
    }
   ],
   "source": [
    "tableroPuntuacion.marcar_casilla(\"7\",\"0\")"
   ]
  },
  {
   "cell_type": "code",
   "execution_count": 54,
   "metadata": {},
   "outputs": [
    {
     "name": "stdout",
     "output_type": "stream",
     "text": [
      "     |     |     \n",
      "  1  |  2  |  3\n",
      "_____|_____|_____\n",
      "     |     |     \n",
      "  4  |  x  |  6\n",
      "_____|_____|_____\n",
      "     |     |     \n",
      "  x  |  8  |  9\n"
     ]
    }
   ],
   "source": [
    "tableroPuntuacion.print()"
   ]
  },
  {
   "cell_type": "code",
   "execution_count": 52,
   "metadata": {},
   "outputs": [
    {
     "data": {
      "text/plain": [
       "-1"
      ]
     },
     "execution_count": 52,
     "metadata": {},
     "output_type": "execute_result"
    }
   ],
   "source": [
    "tableroPuntuacion.buscar_ganador()"
   ]
  },
  {
   "cell_type": "code",
   "execution_count": 15,
   "metadata": {},
   "outputs": [
    {
     "ename": "SyntaxError",
     "evalue": "invalid syntax (<ipython-input-15-70708809087f>, line 7)",
     "output_type": "error",
     "traceback": [
      "\u001b[0;36m  File \u001b[0;32m\"<ipython-input-15-70708809087f>\"\u001b[0;36m, line \u001b[0;32m7\u001b[0m\n\u001b[0;31m    if(self. == 1):\u001b[0m\n\u001b[0m             ^\u001b[0m\n\u001b[0;31mSyntaxError\u001b[0m\u001b[0;31m:\u001b[0m invalid syntax\n"
     ]
    }
   ],
   "source": [
    "class Turno(Jugador):\n",
    "    def __init__(self,simbolo):\n",
    "        super().__init__(self, simbolo)\n",
    "        self.simbolo = simbolo \n",
    "    \n",
    "    def turno(self):\n",
    "        if(self. == 1):\n",
    "            return(\"X\")\n",
    "        else: \n",
    "            return(\"0\") \n",
    "                   "
   ]
  },
  {
   "cell_type": "code",
   "execution_count": 16,
   "metadata": {},
   "outputs": [],
   "source": [
    "class Jugador:\n",
    "    def __init__(self, nombre, num):\n",
    "        self.nombre = nombre\n",
    "        self.num = num\n",
    "    \n",
    "    def __str__(self):\n",
    "        return(self.nombre)\n",
    "        \n",
    "        #- PREGUNTAR SI ESTE VALE COMO SOBRECARGA DE OPERADOR"
   ]
  },
  {
   "cell_type": "code",
   "execution_count": 17,
   "metadata": {},
   "outputs": [],
   "source": [
    "jugador1 = Jugador(\"Yonys\",\"1\")\n",
    "jugador2 = Jugador(\"Uvence\",\"2\")"
   ]
  },
  {
   "cell_type": "code",
   "execution_count": 18,
   "metadata": {},
   "outputs": [
    {
     "name": "stdout",
     "output_type": "stream",
     "text": [
      "Yonys\n"
     ]
    }
   ],
   "source": [
    "print(jugador1)"
   ]
  },
  {
   "cell_type": "code",
   "execution_count": 19,
   "metadata": {},
   "outputs": [
    {
     "data": {
      "text/plain": [
       "'1'"
      ]
     },
     "execution_count": 19,
     "metadata": {},
     "output_type": "execute_result"
    }
   ],
   "source": [
    "jugador1.num"
   ]
  },
  {
   "cell_type": "code",
   "execution_count": 23,
   "metadata": {},
   "outputs": [],
   "source": [
    "def buscar_ganador(tablero):\n",
    "    if(tablero[1] == tablero[2] and tablero[2] == tablero[3]):\n",
    "            return 1                                            # hay ganador\n",
    "    \n",
    "    elif (tablero[4] == tablero[5] and tablero[5] == tablero[6]):\n",
    "        return 1 \n",
    "    \n",
    "    elif(tablero[7] == tablero[8] and tablero[8] == tablero[9]):\n",
    "        return 1                                               # Tercer fila igual simbolo\n",
    "                                                               # Hay ganadot\n",
    "    # ------- Comprobando lo anterior pero para las columnas------------------\n",
    "    elif (tablero[1] == tablero[4] and tablero[4] == tablero[7]):  # Columna 1\n",
    "        return 1;\n",
    "    \n",
    "    elif (tablero[2] == tablero[5] and tablero[5] == tablero[8]):   # Columna 2\n",
    "        return 1\n",
    "        \n",
    "    elif (tablero[3] == tablero[6] and tablero[6] == tablero[9]):   # Columna 3\n",
    "        return 1\n",
    "    #------------- Buscando ganador en las diagonales ---------------------------  \n",
    "    elif (tablero[1] == tablero[5] and tablero[5] == tablero[9]):\n",
    "        return 1   \n",
    "    elif(tablero[3] == tablero[5] and tablero[5] == tablero[7]):\n",
    "        return 1\n",
    "    #Buscando empate\n",
    "    elif (tablero[1] != '1' and tablero[2] != '2' and tablero[3] != '3' and tablero[4] != '4' \n",
    "          and tablero[5] != '5' and tablero[6] != '6'  and tablero[7] != '7' and tablero[8] != '8' and tablero[9] != '9'):\n",
    "        return 0\n",
    "    else:\n",
    "        return -1 # En caso de no haber empate ni ganador entonces se puede seguir jugando\n"
   ]
  },
  {
   "cell_type": "code",
   "execution_count": 24,
   "metadata": {},
   "outputs": [
    {
     "data": {
      "text/plain": [
       "['0', '1', '2', '3', '4', '5', '6', '7', '8', '9']"
      ]
     },
     "execution_count": 24,
     "metadata": {},
     "output_type": "execute_result"
    }
   ],
   "source": [
    "tableroPuntuacion.tablero"
   ]
  },
  {
   "cell_type": "code",
   "execution_count": 25,
   "metadata": {},
   "outputs": [
    {
     "data": {
      "text/plain": [
       "-1"
      ]
     },
     "execution_count": 25,
     "metadata": {},
     "output_type": "execute_result"
    }
   ],
   "source": [
    "buscar_ganador(tableroPuntuacion.tablero)"
   ]
  },
  {
   "cell_type": "code",
   "execution_count": 26,
   "metadata": {},
   "outputs": [
    {
     "ename": "NameError",
     "evalue": "name 'TableroPuntuacion' is not defined",
     "output_type": "error",
     "traceback": [
      "\u001b[0;31m---------------------------------------------------------------------------\u001b[0m",
      "\u001b[0;31mNameError\u001b[0m                                 Traceback (most recent call last)",
      "\u001b[0;32m<ipython-input-26-70dd1ec44722>\u001b[0m in \u001b[0;36m<module>\u001b[0;34m\u001b[0m\n\u001b[0;32m----> 1\u001b[0;31m \u001b[0mTableroPuntuacion\u001b[0m\u001b[0;34m.\u001b[0m\u001b[0mprint\u001b[0m\u001b[0;34m(\u001b[0m\u001b[0;34m)\u001b[0m\u001b[0;34m\u001b[0m\u001b[0;34m\u001b[0m\u001b[0m\n\u001b[0m",
      "\u001b[0;31mNameError\u001b[0m: name 'TableroPuntuacion' is not defined"
     ]
    }
   ],
   "source": [
    "TableroPuntuacion.print()"
   ]
  },
  {
   "cell_type": "code",
   "execution_count": null,
   "metadata": {},
   "outputs": [],
   "source": [
    "TableroPuntuacion.print()"
   ]
  },
  {
   "cell_type": "code",
   "execution_count": 24,
   "metadata": {},
   "outputs": [],
   "source": [
    "class Carro:\n",
    "    def __init__(self,color):\n",
    "        self.color = color\n",
    "    \n",
    "    def corre(self, x):\n",
    "        return(x)"
   ]
  },
  {
   "cell_type": "code",
   "execution_count": 25,
   "metadata": {},
   "outputs": [],
   "source": [
    "a = Carro(\"verde\")"
   ]
  },
  {
   "cell_type": "code",
   "execution_count": 26,
   "metadata": {},
   "outputs": [
    {
     "data": {
      "text/plain": [
       "'no'"
      ]
     },
     "execution_count": 26,
     "metadata": {},
     "output_type": "execute_result"
    }
   ],
   "source": [
    "a.corre(\"no\")"
   ]
  },
  {
   "cell_type": "code",
   "execution_count": 27,
   "metadata": {},
   "outputs": [
    {
     "data": {
      "text/plain": [
       "True"
      ]
     },
     "execution_count": 27,
     "metadata": {},
     "output_type": "execute_result"
    }
   ],
   "source": [
    "\"1\"==\"1\" and 2==2"
   ]
  },
  {
   "cell_type": "code",
   "execution_count": 28,
   "metadata": {},
   "outputs": [
    {
     "data": {
      "text/plain": [
       "'verde'"
      ]
     },
     "execution_count": 28,
     "metadata": {},
     "output_type": "execute_result"
    }
   ],
   "source": [
    "a.color"
   ]
  },
  {
   "cell_type": "code",
   "execution_count": null,
   "metadata": {},
   "outputs": [],
   "source": []
  }
 ],
 "metadata": {
  "kernelspec": {
   "display_name": "Python 3",
   "language": "python",
   "name": "python3"
  },
  "language_info": {
   "codemirror_mode": {
    "name": "ipython",
    "version": 3
   },
   "file_extension": ".py",
   "mimetype": "text/x-python",
   "name": "python",
   "nbconvert_exporter": "python",
   "pygments_lexer": "ipython3",
   "version": "3.8.3"
  }
 },
 "nbformat": 4,
 "nbformat_minor": 4
}
